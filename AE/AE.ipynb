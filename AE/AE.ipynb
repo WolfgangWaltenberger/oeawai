{
 "cells": [
  {
   "cell_type": "markdown",
   "metadata": {},
   "source": [
    "<h1 style=\"color:rgb(0,120,170)\">Autoencoder </h1>\n",
    "<h2 style=\"color:rgb(0,120,170)\">OEAW Machine Learning Summer School 2019</h2>\n",
    "\n",
    "Vanilla implementation of an autoencoder."
   ]
  },
  {
   "cell_type": "code",
   "execution_count": 2,
   "metadata": {},
   "outputs": [],
   "source": [
    "import torch\n",
    "import torch.nn as nn\n",
    "import torch.nn.functional as F\n",
    "from torch.autograd import Variable\n",
    "import torch.optim as optim\n",
    "from torchvision import datasets, transforms\n",
    "from types import SimpleNamespace\n",
    "from torchvision.utils import save_image\n",
    "import matplotlib\n",
    "import matplotlib.pyplot as plt\n",
    "import os"
   ]
  },
  {
   "cell_type": "code",
   "execution_count": 3,
   "metadata": {},
   "outputs": [],
   "source": [
    "# Hyperparameters\n",
    "args = SimpleNamespace(batch_size=64, test_batch_size=64, epochs=2,\n",
    "                       lr=0.001, momentum=0.5, seed=1, log_interval=100,\n",
    "                      weight_decay = 1e-5)\n",
    "torch.manual_seed(args.seed)\n",
    "use_cuda = torch.cuda.is_available()\n",
    "device = torch.device('cuda' if use_cuda else 'cpu')"
   ]
  },
  {
   "cell_type": "code",
   "execution_count": 4,
   "metadata": {},
   "outputs": [],
   "source": [
    "# Data loader (downloads data automatically the first time)\n",
    "kwargs = {'num_workers': 1, 'pin_memory': True} if use_cuda else {}\n",
    "train_loader = torch.utils.data.DataLoader(\n",
    "    datasets.MNIST(os.path.join('.','..','data'), train=True, download=True,\n",
    "                   transform=transforms.Compose([\n",
    "                       transforms.ToTensor()\n",
    "                   ])),\n",
    "    batch_size=args.batch_size, shuffle=True, **kwargs)\n",
    "test_loader = torch.utils.data.DataLoader(\n",
    "    datasets.MNIST(os.path.join('.','..','data'), train=False, transform=transforms.Compose([\n",
    "                       transforms.ToTensor()\n",
    "                   ])),\n",
    "        batch_size=args.test_batch_size, shuffle=True, **kwargs)\n",
    "\n",
    "if not os.path.exists(os.path.join('.','samples')):\n",
    "    os.makedirs(os.path.join('.','samples'))"
   ]
  },
  {
   "cell_type": "code",
   "execution_count": 6,
   "metadata": {},
   "outputs": [
    {
     "name": "stdout",
     "output_type": "stream",
     "text": [
      "torch.Size([60000])\n",
      "torch.Size([60000, 28, 28])\n",
      "Input dimension is 784.\n"
     ]
    },
    {
     "data": {
      "image/png": "[encoded data removed]",
      "text/plain": [
       "<Figure size 1080x216 with 20 Axes>"
      ]
     },
     "metadata": {},
     "output_type": "display_data"
    }
   ],
   "source": [
    "print(train_loader.dataset.targets.shape)\n",
    "print(train_loader.dataset.data.shape)\n",
    "input_dim = train_loader.dataset.data.shape[1]*train_loader.dataset.data.shape[2]\n",
    "print(\"Input dimension is {}.\".format(input_dim))\n",
    "\n",
    "# Plot example images\n",
    "fig=plt.figure(figsize=(15,3))\n",
    "for image in range(20):\n",
    "    show_img = train_loader.dataset.data[image].numpy().reshape(28, 28)\n",
    "    fig.add_subplot(2,10,image+1)\n",
    "    plt.xticks([]),plt.yticks([])\n",
    "    plt.imshow(show_img, cmap='gray')\n",
    "plt.show()"
   ]
  },
  {
   "cell_type": "code",
   "execution_count": 7,
   "metadata": {},
   "outputs": [],
   "source": [
    "class autoencoder(nn.Module):\n",
    "    def __init__(self, ae_input_dim):\n",
    "        super(autoencoder, self).__init__()\n",
    "        # encoder\n",
    "        self.encoder_linear1 = nn.Linear(ae_input_dim, 256)\n",
    "        self.encoder_linear2 = nn.Linear(256, 64)\n",
    "        # decoder\n",
    "        self.decoder_linear1 = nn.Linear(64,256)\n",
    "        self.decoder_linear2 = nn.Linear(256, ae_input_dim)\n",
    "        \n",
    "    def encoder(self, x):\n",
    "        x = self.encoder_linear1(x)\n",
    "        x = F.relu(x)\n",
    "        x = self.encoder_linear2(x)\n",
    "        x = F.relu(x)\n",
    "        return x\n",
    "    \n",
    "    def decoder(self, x):\n",
    "        x = self.decoder_linear1(x)\n",
    "        x = F.relu(x)\n",
    "        x = self.decoder_linear2(x)\n",
    "        x = torch.sigmoid(x)\n",
    "        return x\n",
    "    \n",
    "    def forward(self, x):\n",
    "        x = self.encoder(x)\n",
    "        x = self.decoder(x)\n",
    "        return x"
   ]
  },
  {
   "cell_type": "code",
   "execution_count": 11,
   "metadata": {},
   "outputs": [],
   "source": [
    "# This function trains the model for one epoch\n",
    "def train(args, model, device, train_loader, optimizer, epoch):\n",
    "    model.train()\n",
    "    for batch_idx, (data, _) in enumerate(train_loader):\n",
    "        data = data.view(-1, input_dim)\n",
    "        data = data.to(device)\n",
    "        output = model(data)\n",
    "        loss = criterion(output, data)\n",
    "        optimizer.zero_grad()\n",
    "        loss.backward()\n",
    "        optimizer.step()\n",
    "        if batch_idx % args.log_interval == 0:\n",
    "            print('Train Epoch: {} [{}/{} ({:.0f}%)]\\tLoss: {:.6f}'.format(\n",
    "                epoch, batch_idx * len(data), len(train_loader.dataset),\n",
    "                100. * batch_idx / len(train_loader), loss.item()))\n",
    "            \n",
    "            with torch.no_grad():\n",
    "                x = data.view(-1,1,28,28)\n",
    "                x = x.cpu()\n",
    "                x_hat = output.view(-1,1,28,28)\n",
    "                x_hat = x_hat.cpu()\n",
    "                save_image(x, os.path.join('.','samples','x_{}.png'.format(epoch)))\n",
    "                save_image(x_hat, os.path.join('.','samples','x_hat_{}.png'.format(epoch)))"
   ]
  },
  {
   "cell_type": "code",
   "execution_count": 12,
   "metadata": {},
   "outputs": [],
   "source": [
    "# This function evaluates the model on the test data\n",
    "def test(args, model, device, test_loader):\n",
    "    model.eval()\n",
    "    test_loss = 0\n",
    "    with torch.no_grad():\n",
    "        for data, _ in test_loader:\n",
    "            data = data.view(-1, input_dim)\n",
    "            data = data.to(device)\n",
    "            output = model(data)\n",
    "            test_loss += torch.sum(criterion(output, data)).item() # sum up batch loss\n",
    "    test_loss /= len(test_loader.dataset)\n",
    "    test_loss *= args.test_batch_size\n",
    "    print('\\nTest set loss: {:.4f}'.format(test_loss))"
   ]
  },
  {
   "cell_type": "code",
   "execution_count": 13,
   "metadata": {},
   "outputs": [
    {
     "name": "stdout",
     "output_type": "stream",
     "text": [
      "Train Epoch: 1 [0/60000 (0%)]\tLoss: 0.693626\n",
      "Train Epoch: 1 [6400/60000 (11%)]\tLoss: 0.248450\n",
      "Train Epoch: 1 [12800/60000 (21%)]\tLoss: 0.180868\n",
      "Train Epoch: 1 [19200/60000 (32%)]\tLoss: 0.154358\n",
      "Train Epoch: 1 [25600/60000 (43%)]\tLoss: 0.141085\n",
      "Train Epoch: 1 [32000/60000 (53%)]\tLoss: 0.135599\n",
      "Train Epoch: 1 [38400/60000 (64%)]\tLoss: 0.134921\n",
      "Train Epoch: 1 [44800/60000 (75%)]\tLoss: 0.130384\n",
      "Train Epoch: 1 [51200/60000 (85%)]\tLoss: 0.125264\n",
      "Train Epoch: 1 [57600/60000 (96%)]\tLoss: 0.117751\n",
      "\n",
      "Test set loss: 0.1129\n",
      "Train Epoch: 2 [0/60000 (0%)]\tLoss: 0.116935\n",
      "Train Epoch: 2 [6400/60000 (11%)]\tLoss: 0.109701\n",
      "Train Epoch: 2 [12800/60000 (21%)]\tLoss: 0.112804\n",
      "Train Epoch: 2 [19200/60000 (32%)]\tLoss: 0.105076\n",
      "Train Epoch: 2 [25600/60000 (43%)]\tLoss: 0.104262\n",
      "Train Epoch: 2 [32000/60000 (53%)]\tLoss: 0.110190\n",
      "Train Epoch: 2 [38400/60000 (64%)]\tLoss: 0.101896\n",
      "Train Epoch: 2 [44800/60000 (75%)]\tLoss: 0.098935\n",
      "Train Epoch: 2 [51200/60000 (85%)]\tLoss: 0.099092\n",
      "Train Epoch: 2 [57600/60000 (96%)]\tLoss: 0.103739\n",
      "\n",
      "Test set loss: 0.0959\n",
      "Done\n"
     ]
    }
   ],
   "source": [
    "model = autoencoder(input_dim).to(device)\n",
    "criterion = nn.BCELoss()\n",
    "optimizer = torch.optim.Adam(\n",
    "    model.parameters(), lr=args.lr, weight_decay=args.weight_decay)\n",
    "\n",
    "for epoch in range(1, args.epochs + 1):\n",
    "    train(args, model, device, train_loader, optimizer, epoch)\n",
    "    test(args, model, device, test_loader)\n",
    "    \n",
    "print(\"Done\")"
   ]
  },
  {
   "cell_type": "code",
   "execution_count": null,
   "metadata": {},
   "outputs": [],
   "source": []
  }
 ],
 "metadata": {
  "kernelspec": {
   "display_name": "Python 3",
   "language": "python",
   "name": "python3"
  },
  "language_info": {
   "codemirror_mode": {
    "name": "ipython",
    "version": 3
   },
   "file_extension": ".py",
   "mimetype": "text/x-python",
   "name": "python",
   "nbconvert_exporter": "python",
   "pygments_lexer": "ipython3",
   "version": "3.6.7"
  }
 },
 "nbformat": 4,
 "nbformat_minor": 2
}
