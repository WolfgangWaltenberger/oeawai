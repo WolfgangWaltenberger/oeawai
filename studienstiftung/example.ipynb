{
 "cells": [
  {
   "cell_type": "code",
   "execution_count": null,
   "metadata": {
    "lines_to_next_cell": 0
   },
   "outputs": [],
   "source": []
  },
  {
   "cell_type": "code",
   "execution_count": null,
   "metadata": {},
   "outputs": [],
   "source": [
    "import numpy as np\n",
    "import torch\n",
    "import torch.nn.functional as F\n",
    "from torch.autograd import Variable"
   ]
  },
  {
   "cell_type": "code",
   "execution_count": null,
   "metadata": {
    "lines_to_next_cell": 1
   },
   "outputs": [],
   "source": [
    "x_data, y_data = torch.load ( \"data.p\" )"
   ]
  },
  {
   "cell_type": "code",
   "execution_count": null,
   "metadata": {
    "lines_to_next_cell": 1
   },
   "outputs": [],
   "source": [
    "class Model(torch.nn.Module):\n",
    "    def __init__(self):\n",
    "        super(Model, self).__init__()\n",
    "        self.linear = torch.nn.Linear(2, 1) # 2 in and 1 out\n",
    "        \n",
    "    def forward(self, x):\n",
    "        y_pred = F.sigmoid(self.linear(x))\n",
    "        return y_pred"
   ]
  },
  {
   "cell_type": "code",
   "execution_count": null,
   "metadata": {},
   "outputs": [],
   "source": [
    "# Our model    \n",
    "model_adam = Model()\n",
    "model_sgd = Model()"
   ]
  },
  {
   "cell_type": "code",
   "execution_count": null,
   "metadata": {},
   "outputs": [],
   "source": [
    "criterion = torch.nn.BCELoss(size_average=True)\n",
    "adam = torch.optim.Adam(model_adam.parameters(), lr=0.001)\n",
    "sgd = torch.optim.SGD(model_sgd.parameters(), lr=0.001)"
   ]
  },
  {
   "cell_type": "code",
   "execution_count": null,
   "metadata": {},
   "outputs": [],
   "source": [
    "# Training loop\n",
    "for epoch in range(1000):\n",
    "    # Forward pass: Compute predicted y by passing x to the model\n",
    "    y_pred_adam = model_adam(x_data)\n",
    "    y_pred_sgd = model_sgd(x_data)\n",
    "    \n",
    "    # Compute and print loss\n",
    "    loss_adam = criterion(y_pred_adam, y_data)\n",
    "    loss_sgd = criterion(y_pred_sgd, y_data)\n",
    "    print(epoch, loss_adam.data[0], loss_sgd.data[0])\n",
    "    \n",
    "    # Zero gradients, perform a backward pass, and update the weights.\n",
    "    adam.zero_grad()\n",
    "    sgd.zero_grad()\n",
    "    loss_adam.backward()\n",
    "    loss_sgd.backward()\n",
    "    adam.step()\n",
    "    sgd.step()"
   ]
  },
  {
   "cell_type": "code",
   "execution_count": null,
   "metadata": {},
   "outputs": [],
   "source": [
    "for f in model_adam.parameters():\n",
    "    print('data adam is')\n",
    "    print(f.data)\n",
    "    print(f.grad)\n",
    "for f in model_sgd.parameters():\n",
    "    print('data sgd is')\n",
    "    print(f.data)\n",
    "    print(f.grad)"
   ]
  },
  {
   "cell_type": "code",
   "execution_count": null,
   "metadata": {},
   "outputs": [],
   "source": [
    "w_adam = list(model_adam.parameters())\n",
    "w_adam0 = w_adam[0].data.numpy()\n",
    "w_adam1 = w_adam[1].data.numpy()\n",
    "w_sgd = list(model_sgd.parameters())\n",
    "w_sgd0 = w_sgd[0].data.numpy()\n",
    "w_sgd1 = w_sgd[1].data.numpy()"
   ]
  },
  {
   "cell_type": "code",
   "execution_count": null,
   "metadata": {},
   "outputs": [],
   "source": [
    "import matplotlib.pyplot as plt"
   ]
  },
  {
   "cell_type": "code",
   "execution_count": null,
   "metadata": {},
   "outputs": [],
   "source": [
    "print ( \"Final gradient descend, adam:\", w_adam )\n",
    "# plot the data and separating line\n",
    "plt.scatter(x_data[:,0], x_data[:,1], c=y_data.reshape(100), s=100, alpha=0.5)\n",
    "x_axis = np.linspace(-6, 6, 100)\n",
    "y_axis = -(w_adam1[0] + x_axis*w_adam0[0][0]) / w_adam0[0][1]\n",
    "y_axis_sgd = -(w_sgd1[0] + x_axis*w_sgd0[0][0]) / w_sgd0[0][1]\n",
    "line_up, = plt.plot(x_axis, y_axis,'r--', label='decision boundary, Adam')\n",
    "line_up_sgd, = plt.plot(x_axis, y_axis_sgd,'b--', label='decision boundary, SGD')\n",
    "plt.legend(handles=[line_up,line_up_sgd])\n",
    "plt.xlabel('$x_1$')\n",
    "plt.ylabel('$x_2$')\n",
    "#plt.show()\n",
    "plt.savefig ( \"01_logit.png\" )"
   ]
  }
 ],
 "metadata": {
  "jupytext": {
   "cell_metadata_filter": "-all",
   "executable": "/usr/bin/env python3",
   "main_language": "python",
   "notebook_metadata_filter": "-all"
  }
 },
 "nbformat": 4,
 "nbformat_minor": 2
}
